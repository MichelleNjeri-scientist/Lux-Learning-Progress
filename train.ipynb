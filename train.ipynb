{
 "cells": [
  {
   "cell_type": "code",
   "execution_count": 15,
   "metadata": {},
   "outputs": [],
   "source": [
    "import pandas as pd\n",
    "import chardet"
   ]
  },
  {
   "cell_type": "code",
   "execution_count": 16,
   "metadata": {},
   "outputs": [
    {
     "name": "stdout",
     "output_type": "stream",
     "text": [
      "         ÿid  Gender       Customer_Date_of_Birth  Driving_License  \\\n",
      "0  549771831    Male        Monday, March 7, 1977                1   \n",
      "1  373583351    Male    Sunday, December 29, 2002                1   \n",
      "2  933163655  Female     Tuesday, August 23, 1994                1   \n",
      "3  698942186  Female  Thursday, November 18, 1999                1   \n",
      "4  515109822    Male  Thursday, February 22, 2001                1   \n",
      "\n",
      "  Customer_Residence_Sub_County  Previously_Insured  \\\n",
      "0                      EMBAKASI                   0   \n",
      "1                     WESTLANDS                   1   \n",
      "2                     DAGORETTI                   1   \n",
      "3                          JUJA                   0   \n",
      "4                     WESTLANDS                   0   \n",
      "\n",
      "   Vehicle_Year_of_Manufacture Vehicle_Damage  Annual_Premium      Agent_name  \\\n",
      "0                         2020            Yes           38294   Jomo Kenyatta   \n",
      "1                         2020             No           28619  Obiero Ochieng   \n",
      "2                         2011             No           27496  Obiero Ochieng   \n",
      "3                         2020            Yes            2630  Gitonga Mwangi   \n",
      "4                         2015            Yes           23367  Obiero Ochieng   \n",
      "\n",
      "        Life_policy_start_date  Response  \n",
      "0  Thursday, December 21, 2023         1  \n",
      "1     Wednesday, June 28, 2023         0  \n",
      "2   Saturday, December 9, 2023         0  \n",
      "3       Tuesday, July 25, 2023         0  \n",
      "4       Saturday, May 13, 2023         0  \n"
     ]
    }
   ],
   "source": [
    "df = pd.read_csv('traindata.csv', encoding='latin1')\n",
    "print(df.head())"
   ]
  },
  {
   "cell_type": "code",
   "execution_count": 17,
   "metadata": {},
   "outputs": [
    {
     "name": "stdout",
     "output_type": "stream",
     "text": [
      "Detected encoding: ISO-8859-1\n"
     ]
    }
   ],
   "source": [
    "with open('traindata.csv', 'rb') as file:\n",
    "    result = chardet.detect(file.read())\n",
    "    encoding = result['encoding']\n",
    "\n",
    "print(f\"Detected encoding: {encoding}\")"
   ]
  }
 ],
 "metadata": {
  "kernelspec": {
   "display_name": "Python 3",
   "language": "python",
   "name": "python3"
  },
  "language_info": {
   "codemirror_mode": {
    "name": "ipython",
    "version": 3
   },
   "file_extension": ".py",
   "mimetype": "text/x-python",
   "name": "python",
   "nbconvert_exporter": "python",
   "pygments_lexer": "ipython3",
   "version": "3.11.2"
  }
 },
 "nbformat": 4,
 "nbformat_minor": 2
}
