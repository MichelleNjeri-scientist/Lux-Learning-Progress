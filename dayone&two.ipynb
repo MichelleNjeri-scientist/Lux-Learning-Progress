{
 "cells": [
  {
   "cell_type": "code",
   "execution_count": 1,
   "metadata": {},
   "outputs": [],
   "source": [
    "import pandas as pd\n",
    "import numpy as np\n",
    "import pyforest\n"
   ]
  },
  {
   "cell_type": "code",
   "execution_count": null,
   "metadata": {},
   "outputs": [],
   "source": [
    "print(\"Welcome to Lux\")"
   ]
  },
  {
   "cell_type": "code",
   "execution_count": null,
   "metadata": {},
   "outputs": [],
   "source": [
    "data = {\n",
    "    \"Name\": [\"Alice\", \"Bob\", \"Charlie\"],\n",
    "    \"Age\": [25, 30, 35],\n",
    "    \"City\": [\"New York\", \"Nairobi\", \"Mombasa\"]\n",
    "}\n",
    "\n",
    "df = pd.DataFrame(data)\n",
    "print(df)"
   ]
  },
  {
   "cell_type": "markdown",
   "metadata": {},
   "source": [
    "Assignment:\n",
    "1. Learn Transformers, NLP and their role to create ChatGPT and how the chats mimic human\n",
    "\n",
    "Transformers are a type of neural network architecture introduced in the paper \"Attention is All You Need\" (2017). They revolutionized natural language processing (NLP) by allowing models to process entire sequences of text simultaneously and understand context through self-attention mechanisms.\n",
    "Key Features of Transformers:\n",
    "Self-Attention Mechanism: Enables the model to weigh the importance of different words in a sentence relative to each other, capturing context effectively.\n",
    "Positional Encoding: Adds information about the order of words in a sequence, which is not inherently captured in a sequence processed in parallel.\n",
    "Parallel Processing: Unlike RNNs, Transformers process input data simultaneously, making them faster and more scalable.\n",
    "\n",
    "Role in ChatGPT:\n",
    "Transformers form the backbone of ChatGPT by:\n",
    "Enabling contextual understanding of sentences through multiple layers of self-attention.\n",
    "Allowing the model to generate coherent responses by attending to the user’s input and previously generated tokens.\n",
    "Making it feasible to handle long sequences, such as multi-turn conversations, by maintaining context across multiple exchanges.\n",
    "\n",
    "\n"
   ]
  },
  {
   "cell_type": "markdown",
   "metadata": {},
   "source": [
    "2. Learn NLP and Its Role\n",
    "NLP (Natural Language Processing) involves teaching machines to understand, interpret, and generate human language. It combines computational linguistics with machine learning to process text and speech data.\n",
    "\n",
    "Role in ChatGPT:\n",
    "Text Understanding: NLP techniques enable ChatGPT to parse user queries, understand semantics, and recognize linguistic nuances like idioms or metaphors.\n",
    "Context Management: NLP models like GPT use mechanisms to retain context across interactions, allowing for coherent, human-like conversations.\n",
    "Language Generation: Through advanced NLP, ChatGPT can generate grammatically correct, contextually relevant, and natural-sounding responses."
   ]
  },
  {
   "cell_type": "markdown",
   "metadata": {},
   "source": [
    "3. . How ChatGPT Mimics Human Intelligence\n",
    "ChatGPT mimics human intelligence through several mechanisms:\n",
    "\n",
    "a) ChatGPT is trained on massive datasets containing diverse text (books, articles, web pages) to learn grammar, facts, reasoning, and general language patterns.\n",
    "b) Fine-Tuning with Human Feedback:\n",
    "After pretraining, the model undergoes fine-tuning using Reinforcement Learning from Human Feedback (RLHF). Human reviewers rank model responses, which guides the model to generate more appropriate and human-like outputs.\n",
    "c) Conversational Context Management:\n",
    "ChatGPT uses a dialogue history to generate context-aware responses. It \"remembers\" the conversation flow within a session, similar to how humans build upon prior exchanges.\n",
    "d) Probabilistic Text Generation:\n",
    "The model generates responses by predicting the most probable next word, based on patterns learned during training. This probabilistic approach allows it to generate diverse and adaptive responses.\n",
    "e) Understanding and Generating Emotion:\n",
    "By analyzing input text, ChatGPT can infer emotional tone and respond empathetically, mimicking human social intelligence."
   ]
  },
  {
   "cell_type": "markdown",
   "metadata": {},
   "source": [
    "List all subsets of AI and provide examples of each\n",
    "1. Machine Learning (ML)\n",
    "ML is the study of algorithms that allow machines to learn and improve from data without being explicitly programmed.\n",
    "Examples:\n",
    "•\tSupervised Learning: Spam email detection, house price prediction.\n",
    "•\tUnsupervised Learning: Customer segmentation, anomaly detection.\n",
    "•\tReinforcement Learning: AlphaGo, robotic arm control.\n",
    "________________________________________\n",
    "\n",
    "2. Deep Learning (DL)\n",
    "DL is a subset of ML that uses neural networks with many layers (deep neural networks) to model complex patterns in data.\n",
    "Examples:\n",
    "•\tImage recognition (e.g., using convolutional neural networks like ResNet).\n",
    "•\tLanguage translation (e.g., Google Translate using sequence-to-sequence models).\n",
    "•\tSpeech recognition (e.g., Siri, Alexa).\n",
    "________________________________________\n",
    "3. Natural Language Processing (NLP)\n",
    "NLP focuses on enabling machines to understand, interpret, and generate human language.\n",
    "Examples:\n",
    "•\tSentiment analysis (e.g., analyzing customer reviews).\n",
    "•\tChatbots (e.g., ChatGPT, virtual assistants).\n",
    "•\tMachine translation (e.g., translating text between languages).\n",
    "4 . Robotics\n",
    "Robotics involves the design and development of robots that can perform tasks autonomously or semi-autonomously.\n",
    "Examples:\n",
    "•\tIndustrial robots (e.g., robotic arms in manufacturing).\n",
    "•\tHumanoid robots (e.g., Boston Dynamics’ Atlas).\n",
    "•\tService robots (e.g., robot vacuum cleaners like Roomba).\n",
    "5. Genetic Algorithms (GA)\n",
    "GAs are optimization algorithms inspired by the process of natural selection.\n",
    "Examples:\n",
    "•\tOptimizing airline schedules.\n",
    "•\tDesigning aerodynamic shapes for cars or planes.\n",
    "•\tSolving complex scheduling problems.\n"
   ]
  },
  {
   "cell_type": "markdown",
   "metadata": {},
   "source": [
    "Day 2"
   ]
  },
  {
   "cell_type": "code",
   "execution_count": null,
   "metadata": {},
   "outputs": [],
   "source": [
    "numbers = [1, 2, 3, 4, 5, 6, 7, 8, 9, 10]\n",
    "# List of numbers\n",
    "even_numbers = [num for num in numbers if num % 2 == 0]\n",
    "print(even_numbers)"
   ]
  },
  {
   "cell_type": "code",
   "execution_count": null,
   "metadata": {},
   "outputs": [],
   "source": [
    "numbers = range(1, 11)\n",
    "for i in numbers:\n",
    "    if i % 2 == 0:\n",
    "        print(i)"
   ]
  },
  {
   "cell_type": "code",
   "execution_count": null,
   "metadata": {},
   "outputs": [
    {
     "name": "stdout",
     "output_type": "stream",
     "text": [
      "Hello, Michelle! Welcome to Lux Academy.\n"
     ]
    }
   ],
   "source": [
    "#Function with argument\n",
    "def greetings(name):\n",
    "    print(f\"Hello, {name}! Welcome to Lux Academy.\")\n",
    "    \n",
    "greetings(\"Michelle\")\n",
    "# f string is used to connect something that was not initially in the string."
   ]
  },
  {
   "cell_type": "code",
   "execution_count": null,
   "metadata": {},
   "outputs": [],
   "source": [
    "i = 1\n",
    "while i<= 10:\n",
    "    if i % 2 == 0:\n",
    "     print (i)\n",
    "    i +=1\n",
    "    #For loop we give a range and it iterates through every element in that column.While executes just what the condition says.\n"
   ]
  },
  {
   "cell_type": "code",
   "execution_count": null,
   "metadata": {},
   "outputs": [],
   "source": [
    "print(\"Welcome to the AI Conversation Programme!\")\n",
    "print(\"I can answer basic questions about Data Science and AI.\")\n",
    "\n",
    "while True:\n",
    "    UserInput = input(\"\\n You: \").lower()\n",
    "    if \"ai\" in UserInput:\n",
    "        print(\"AI stands for Artificial Intelligence, which is about making machines smart.\")\n",
    "    elif \"data science\" in UserInput:\n",
    "        print(\"Data Science involves analyzing data to extract insights.\")\n",
    "    elif \"ml\" in UserInput or \"machine learning\" in UserInput:\n",
    "        print(\"Machine Learning is a subset of AI that enables machines to learn from data.\")\n",
    "    elif \"bye\" in UserInput or \"exit\" in UserInput:\n",
    "        print(\"Goodbye! Have a great day learning AI and Data Science.\")\n",
    "        break\n",
    "    else:\n",
    "        print(\"I'm sorry, I don't understand that. Can you ask something else?\")\n",
    "    "
   ]
  },
  {
   "cell_type": "markdown",
   "metadata": {},
   "source": [
    "Assignment 2"
   ]
  },
  {
   "cell_type": "markdown",
   "metadata": {},
   "source": [
    "Do while loop and difference between while and do while\n",
    "while Loop:\n",
    "The condition is checked before executing the loop body.\n",
    "If the condition is false initially, the loop body will not execute even once.\n",
    "Syntax:\n",
    "while condition:\n",
    "    # Code to execute\n",
    "Example:\n",
    "i = 0\n",
    "while i < 3:\n",
    "    print(i)\n",
    "    i += 1\n",
    "do...while Loop:\n",
    "The condition is checked after executing the loop body.\n",
    "The loop body always executes at least once, even if the condition is false.\n",
    "Python does not have a native do...while construct\n",
    "\n",
    "2. Nested Loops:\n",
    "A nested loop is a loop inside another loop. The inner loop runs completely for each iteration of the outer loop.\n",
    "Example: \n",
    "for i in range(3):  # Outer loop\n",
    "    for j in range(2):  # Inner loop\n",
    "        print(f\"Outer: {i}, Inner: {j}\")\n",
    "•\tWorking with multi-dimensional data structures (e.g., 2D arrays or matrices).\n",
    "•\tSolving combinatorial problems.\n",
    "3. Difference Between return and print Statements:\n",
    "return Statement:\n",
    "Used inside a function to send a value back to the caller.\n",
    "Terminates the function's execution.\n",
    "The returned value can be assigned to a variable.\n",
    "Example:\n",
    "def add(a, b):\n",
    "    return a + b\n",
    "print Statement:\n",
    "Displays output to the console.\n",
    "Does not return a value or terminate a function.\n",
    "4. Learning About Functions, Files, and Classes:\n",
    "Functions: A block of reusable code designed to perform a specific task.\n",
    "Syntax:\n",
    "def function_name(parameters):\n",
    "    return value\n",
    "Files (Read and Write):\n",
    "Reading from a file: with open('file.txt', 'r') as file:\n",
    "    content = file.read()\n",
    "    print(content)\n",
    "Writing to a file: with open('file.txt', 'w') as file:\n",
    "    file.write(\"Hello, world!\")\n",
    "\n",
    "\n"
   ]
  }
 ],
 "metadata": {
  "kernelspec": {
   "display_name": "Python 3",
   "language": "python",
   "name": "python3"
  },
  "language_info": {
   "codemirror_mode": {
    "name": "ipython",
    "version": 3
   },
   "file_extension": ".py",
   "mimetype": "text/x-python",
   "name": "python",
   "nbconvert_exporter": "python",
   "pygments_lexer": "ipython3",
   "version": "3.11.2"
  }
 },
 "nbformat": 4,
 "nbformat_minor": 2
}
