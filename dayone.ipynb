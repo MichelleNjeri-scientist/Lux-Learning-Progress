{
 "cells": [
  {
   "cell_type": "code",
   "execution_count": 1,
   "metadata": {},
   "outputs": [],
   "source": [
    "import pandas as pd"
   ]
  },
  {
   "cell_type": "code",
   "execution_count": null,
   "metadata": {},
   "outputs": [],
   "source": [
    "print(\"Welcome to Lux\")"
   ]
  },
  {
   "cell_type": "code",
   "execution_count": null,
   "metadata": {},
   "outputs": [],
   "source": [
    "data = {\n",
    "    \"Name\": [\"Alice\", \"Bob\", \"Charlie\"],\n",
    "    \"Age\": [25, 30, 35],\n",
    "    \"City\": [\"New York\", \"Nairobi\", \"Mombasa\"]\n",
    "}\n",
    "\n",
    "df = pd.DataFrame(data)\n",
    "print(df)"
   ]
  },
  {
   "cell_type": "code",
   "execution_count": null,
   "metadata": {},
   "outputs": [],
   "source": [
    "# List of numbers\n",
    "numbers = [1, 2, 3, 4, 5, 6, 7, 8, 9, 10]\n",
    "even_numbers = [num for num in numbers if num % 2 == 0]\n",
    "print(even_numbers)"
   ]
  },
  {
   "cell_type": "code",
   "execution_count": null,
   "metadata": {},
   "outputs": [],
   "source": [
    "numbers = range(1, 11)\n",
    "for i in numbers:\n",
    "    if i % 2 == 0:\n",
    "        print(i)"
   ]
  },
  {
   "cell_type": "code",
   "execution_count": null,
   "metadata": {},
   "outputs": [],
   "source": [
    "i = 1\n",
    "while i<= 10:\n",
    "    if i % 2 == 0:\n",
    "     print (i)\n",
    "    i +=1\n",
    "    #For loop we give a range and it iterates through every element in that column.While executes just what the condition says.\n"
   ]
  },
  {
   "cell_type": "code",
   "execution_count": null,
   "metadata": {},
   "outputs": [],
   "source": [
    "print(\"Welcome to the AI Conversation Programme!\")\n",
    "print(\"I can answer basic questions about Data Science and AI.\")\n",
    "\n",
    "while True:\n",
    "    UserInput = input(\"\\n You: \").lower()\n",
    "    if \"ai\" in UserInput:\n",
    "        print(\"AI stands for Artificial Intelligence, which is about making machines smart.\")\n",
    "    elif \"data science\" in UserInput:\n",
    "        print(\"Data Science involves analyzing data to extract insights.\")\n",
    "    elif \"ml\" in UserInput or \"machine learning\" in UserInput:\n",
    "        print(\"Machine Learning is a subset of AI that enables machines to learn from data.\")\n",
    "    elif \"bye\" in UserInput or \"exit\" in UserInput:\n",
    "        print(\"Goodbye! Have a great day learning AI and Data Science.\")\n",
    "        break\n",
    "    else:\n",
    "        print(\"I'm sorry, I don't understand that. Can you ask something else?\")\n",
    "    "
   ]
  }
 ],
 "metadata": {
  "kernelspec": {
   "display_name": "Python 3",
   "language": "python",
   "name": "python3"
  },
  "language_info": {
   "codemirror_mode": {
    "name": "ipython",
    "version": 3
   },
   "file_extension": ".py",
   "mimetype": "text/x-python",
   "name": "python",
   "nbconvert_exporter": "python",
   "pygments_lexer": "ipython3",
   "version": "3.11.2"
  }
 },
 "nbformat": 4,
 "nbformat_minor": 2
}
