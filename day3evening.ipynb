{
 "cells": [
  {
   "cell_type": "markdown",
   "metadata": {},
   "source": [
    "Day 3:Evening Class\n",
    "FUNCTIONS"
   ]
  },
  {
   "cell_type": "code",
   "execution_count": 2,
   "metadata": {},
   "outputs": [],
   "source": [
    "import pyforest"
   ]
  },
  {
   "cell_type": "code",
   "execution_count": 10,
   "metadata": {},
   "outputs": [
    {
     "name": "stdout",
     "output_type": "stream",
     "text": [
      "Kindly pick a hairstyle before calling\n"
     ]
    }
   ],
   "source": [
    "#Function without argument\n",
    "def hair():\n",
    "    print(\"Kindly pick a hairstyle before calling\")\n",
    "hair()"
   ]
  },
  {
   "cell_type": "code",
   "execution_count": 11,
   "metadata": {},
   "outputs": [
    {
     "data": {
      "text/plain": [
       "'Kindly pick a hairstyle before calling'"
      ]
     },
     "execution_count": 11,
     "metadata": {},
     "output_type": "execute_result"
    }
   ],
   "source": [
    "#Function without argument\n",
    "def hair():\n",
    "    return(\"Kindly pick a hairstyle before calling\")\n",
    "hair()"
   ]
  },
  {
   "cell_type": "code",
   "execution_count": null,
   "metadata": {},
   "outputs": [],
   "source": [
    "#Function with argument\n",
    "def greetings(name):\n",
    "    print(f\"Hello, {name}! Welcome to Lux Academy.\")\n",
    "    \n",
    "greetings(\"Michelle\")\n",
    "# f string is used to connect something that was not initially in the string."
   ]
  },
  {
   "cell_type": "code",
   "execution_count": 27,
   "metadata": {},
   "outputs": [
    {
     "name": "stdout",
     "output_type": "stream",
     "text": [
      "Hey Computer Science First Year student. Welcome to this introductory session. We cannot wait to meet you!\n"
     ]
    }
   ],
   "source": [
    "def course(course_name, year): \n",
    "    message = \"Hey \" + course_name + ' ' + year +\" student. Welcome to this introductory session. We cannot wait to meet you!\"\n",
    "    print(message)\n",
    "\n",
    "#Calling function course\n",
    "course(\"Computer Science\", \"First Year\")"
   ]
  },
  {
   "cell_type": "code",
   "execution_count": 28,
   "metadata": {},
   "outputs": [
    {
     "name": "stdout",
     "output_type": "stream",
     "text": [
      "Hello MICHELLE, welcome!\n",
      "Your age multiplied by 3 is: 75\n"
     ]
    }
   ],
   "source": [
    "def student(name, age):\n",
    "    greet = 'Hello ' + name.upper() + ', welcome!'\n",
    "    your_age = age * 3\n",
    "    print(greet)  # Print the greeting\n",
    "    return your_age  # Return the calculated age\n",
    "\n",
    "# Call the function with sample arguments\n",
    "result = student(\"Michelle\", 25)\n",
    "\n",
    "# Print the result returned by the function\n",
    "print(\"Your age multiplied by 3 is:\", result)"
   ]
  },
  {
   "cell_type": "code",
   "execution_count": 34,
   "metadata": {},
   "outputs": [
    {
     "name": "stdout",
     "output_type": "stream",
     "text": [
      "1 is odd\n",
      "2 is even\n",
      "3 is odd\n",
      "4 is even\n",
      "5 is odd\n",
      "6 is even\n",
      "7 is odd\n",
      "8 is even\n",
      "9 is odd\n",
      "10 is even\n",
      "11 is odd\n"
     ]
    }
   ],
   "source": [
    "numbers = [1,2,3,4,5,6,7,8,9,10,11] \n",
    "def even_number(numbers):\n",
    "    for i in numbers:\n",
    "        if i % 2 == 0:  \n",
    "            print(f\"{i} is even\")\n",
    "        else:\n",
    "            print(f\"{i} is odd\")\n",
    "\n",
    "# Call the function\n",
    "even_number(numbers)\n"
   ]
  },
  {
   "cell_type": "markdown",
   "metadata": {},
   "source": [
    "Classes: A blueprint for creating objects that encapsulate data and behavior.\n",
    "class ClassName:\n",
    "    def __init__(self, attribute):\n",
    "        self.attribute = attribute\n",
    "\n",
    "    def method(self):\n",
    "        return f\"Attribute: {self.attribute}\"\n",
    "obj = ClassName(\"Example\")\n",
    "print(obj.method())  # Output: Attribute: Example"
   ]
  }
 ],
 "metadata": {
  "kernelspec": {
   "display_name": "Python 3",
   "language": "python",
   "name": "python3"
  },
  "language_info": {
   "codemirror_mode": {
    "name": "ipython",
    "version": 3
   },
   "file_extension": ".py",
   "mimetype": "text/x-python",
   "name": "python",
   "nbconvert_exporter": "python",
   "pygments_lexer": "ipython3",
   "version": "3.11.2"
  }
 },
 "nbformat": 4,
 "nbformat_minor": 2
}
